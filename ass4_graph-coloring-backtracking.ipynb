{
 "cells": [
  {
   "cell_type": "code",
   "execution_count": 1,
   "id": "4ed1bbca",
   "metadata": {},
   "outputs": [
    {
     "name": "stdout",
     "output_type": "stream",
     "text": [
      "Solution exists and the assigned colors are:\n",
      "1 2 3 2 "
     ]
    },
    {
     "data": {
      "text/plain": [
       "True"
      ]
     },
     "execution_count": 1,
     "metadata": {},
     "output_type": "execute_result"
    }
   ],
   "source": [
    "class Graph():\n",
    "\n",
    "\tdef __init__(self, vertices):\n",
    "\t\tself.V = vertices\n",
    "\t\tself.graph = [[0 for _ in range(vertices)] for _ in range(vertices)]\n",
    "\n",
    "\t# a utility function to check if the current color assignment is safe for vertex v\n",
    "\tdef isSafe(self, v, colour, c):\n",
    "\t\tfor i in range(self.V):\n",
    "\t\t\t# check adjacent vertices if they exist and if they have the same color c\n",
    "\t\t\tif self.graph[v][i] == 1 and colour[i] == c:\n",
    "\t\t\t\treturn False\n",
    "\t\treturn True\n",
    "\n",
    "\t# a recursive utility function to solve m coloring problem\n",
    "\tdef graphColourUtil(self, m, colour, v):\n",
    "\t\t# base case: if all vertices are assigned a color then return true\n",
    "\t\tif v >= self.V:\n",
    "\t\t\treturn True\n",
    "\n",
    "\t\t# consider this vertex v and try different colors\n",
    "\t\tfor c in range(1, m + 1):\n",
    "\t\t\tif self.isSafe(v, colour, c) == True:\n",
    "\t\t\t\tcolour[v] = c\n",
    "\t\t\t\t# recur to color rest of the vertices\n",
    "\t\t\t\tif self.graphColourUtil(m, colour, v + 1) == True:\n",
    "\t\t\t\t\treturn True\n",
    "\t\t\t\t# if assigning color c doesn't lead to a solution then remove it\n",
    "\t\t\t\tcolour[v] = 0\n",
    "\n",
    "\tdef graphColouring(self, m):\n",
    "\t\tcolour = [0] * self.V\n",
    "\t\tif self.graphColourUtil(m, colour, 0) != True:\n",
    "\t\t\tprint(\"No solution exists\")\n",
    "\t\t\treturn False\n",
    "\n",
    "\t\tprint(\"Solution exists and the assigned colors are:\")\n",
    "\t\tfor c in colour:\n",
    "\t\t\tprint(c, end=' ')\n",
    "\t\treturn True\n",
    "\n",
    "g = Graph(4)\n",
    "g.graph = [[0, 1, 1, 1], [1, 0, 1, 0], [1, 1, 0, 1], [1, 0, 1, 0]]\n",
    "m = 3\n",
    "\n",
    "g.graphColouring(m)\n",
    "\n",
    "# Time Complexity: O(m^V). There is a total of O(m^V) combinations of colors. \n",
    "# The upper bound time complexity remains the same but the average time taken will be less.\n",
    "# Auxiliary Space: O(V). The recursive Stack of the graph coloring function will require O(V) space."
   ]
  },
  {
   "cell_type": "code",
   "execution_count": null,
   "id": "7333db43",
   "metadata": {},
   "outputs": [],
   "source": []
  }
 ],
 "metadata": {
  "kernelspec": {
   "display_name": "Python 3 (ipykernel)",
   "language": "python",
   "name": "python3"
  },
  "language_info": {
   "codemirror_mode": {
    "name": "ipython",
    "version": 3
   },
   "file_extension": ".py",
   "mimetype": "text/x-python",
   "name": "python",
   "nbconvert_exporter": "python",
   "pygments_lexer": "ipython3",
   "version": "3.10.9"
  }
 },
 "nbformat": 4,
 "nbformat_minor": 5
}
