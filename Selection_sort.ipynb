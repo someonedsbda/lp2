{
 "cells": [
  {
   "cell_type": "code",
   "execution_count": 2,
   "id": "350986a7",
   "metadata": {},
   "outputs": [
    {
     "name": "stdout",
     "output_type": "stream",
     "text": [
      "Sorted array: [25, 45, 64, 100, 1882]\n"
     ]
    }
   ],
   "source": [
    "def selection_sort(arr):\n",
    "    for i in range(len(arr)):\n",
    "        min = i\n",
    "        for j in range(i + 1, len(arr)):\n",
    "            if arr[j] < arr[min]:\n",
    "                min = j\n",
    "        arr[i], arr[min] = arr[min], arr[i]\n",
    "\n",
    "# Example usage:\n",
    "arr = [64, 25, 1882, 100, 45]\n",
    "selection_sort(arr)\n",
    "print(\"Sorted array:\", arr)"
   ]
  },
  {
   "cell_type": "code",
   "execution_count": null,
   "id": "92da4c2b",
   "metadata": {},
   "outputs": [],
   "source": []
  },
  {
   "cell_type": "code",
   "execution_count": null,
   "id": "58766155",
   "metadata": {},
   "outputs": [],
   "source": []
  }
 ],
 "metadata": {
  "kernelspec": {
   "display_name": "Python 3 (ipykernel)",
   "language": "python",
   "name": "python3"
  },
  "language_info": {
   "codemirror_mode": {
    "name": "ipython",
    "version": 3
   },
   "file_extension": ".py",
   "mimetype": "text/x-python",
   "name": "python",
   "nbconvert_exporter": "python",
   "pygments_lexer": "ipython3",
   "version": "3.10.9"
  }
 },
 "nbformat": 4,
 "nbformat_minor": 5
}
